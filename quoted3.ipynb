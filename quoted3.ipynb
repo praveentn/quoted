{
  "nbformat": 4,
  "nbformat_minor": 0,
  "metadata": {
    "colab": {
      "name": "quoted3.ipynb",
      "provenance": [],
      "authorship_tag": "ABX9TyPc3y+LIcoTMg7d8HUOTdoQ",
      "include_colab_link": true
    },
    "kernelspec": {
      "name": "python3",
      "display_name": "Python 3"
    },
    "accelerator": "GPU"
  },
  "cells": [
    {
      "cell_type": "markdown",
      "metadata": {
        "id": "view-in-github",
        "colab_type": "text"
      },
      "source": [
        "<a href=\"https://colab.research.google.com/github/praveentn/quoted/blob/master/quoted3.ipynb\" target=\"_parent\"><img src=\"https://colab.research.google.com/assets/colab-badge.svg\" alt=\"Open In Colab\"/></a>"
      ]
    },
    {
      "cell_type": "code",
      "metadata": {
        "id": "EW4mrcQF6GBD",
        "colab_type": "code",
        "colab": {
          "base_uri": "https://localhost:8080/",
          "height": 122
        },
        "outputId": "3ebf7ef5-eee7-4d09-e2a5-ecd72648ada2"
      },
      "source": [
        "import os\n",
        "from google.colab import drive\n",
        "\n",
        "drive.mount('/content/drive', force_remount=True)\n",
        "\n",
        "os.chdir('/content/drive/My Drive/Quoted/')"
      ],
      "execution_count": 1,
      "outputs": [
        {
          "output_type": "stream",
          "text": [
            "Go to this URL in a browser: https://accounts.google.com/o/oauth2/auth?client_id=947318989803-6bn6qk8qdgf4n4g3pfee6491hc0brc4i.apps.googleusercontent.com&redirect_uri=urn%3aietf%3awg%3aoauth%3a2.0%3aoob&response_type=code&scope=email%20https%3a%2f%2fwww.googleapis.com%2fauth%2fdocs.test%20https%3a%2f%2fwww.googleapis.com%2fauth%2fdrive%20https%3a%2f%2fwww.googleapis.com%2fauth%2fdrive.photos.readonly%20https%3a%2f%2fwww.googleapis.com%2fauth%2fpeopleapi.readonly\n",
            "\n",
            "Enter your authorization code:\n",
            "··········\n",
            "Mounted at /content/drive\n"
          ],
          "name": "stdout"
        }
      ]
    },
    {
      "cell_type": "code",
      "metadata": {
        "id": "KVrr6xvxqIvL",
        "colab_type": "code",
        "colab": {
          "base_uri": "https://localhost:8080/",
          "height": 68
        },
        "outputId": "0a5f6f40-6f72-4e4f-efe8-327135c79400"
      },
      "source": [
        "import nltk\n",
        "nltk.download('punkt')"
      ],
      "execution_count": 23,
      "outputs": [
        {
          "output_type": "stream",
          "text": [
            "[nltk_data] Downloading package punkt to /root/nltk_data...\n",
            "[nltk_data]   Unzipping tokenizers/punkt.zip.\n"
          ],
          "name": "stdout"
        },
        {
          "output_type": "execute_result",
          "data": {
            "text/plain": [
              "True"
            ]
          },
          "metadata": {
            "tags": []
          },
          "execution_count": 23
        }
      ]
    },
    {
      "cell_type": "code",
      "metadata": {
        "id": "3FI_BQJE6eof",
        "colab_type": "code",
        "colab": {}
      },
      "source": [
        "\n",
        "!ls"
      ],
      "execution_count": 2,
      "outputs": []
    },
    {
      "cell_type": "code",
      "metadata": {
        "id": "RjF3U0W96hOA",
        "colab_type": "code",
        "colab": {
          "base_uri": "https://localhost:8080/",
          "height": 35
        },
        "outputId": "5a6dec45-991c-4357-cad0-1b944dd5b290"
      },
      "source": [
        "pwd"
      ],
      "execution_count": 3,
      "outputs": [
        {
          "output_type": "execute_result",
          "data": {
            "application/vnd.google.colaboratory.intrinsic": {
              "type": "string"
            },
            "text/plain": [
              "'/content/drive/My Drive/Quoted'"
            ]
          },
          "metadata": {
            "tags": []
          },
          "execution_count": 3
        }
      ]
    },
    {
      "cell_type": "code",
      "metadata": {
        "id": "MAWAB16X6UbY",
        "colab_type": "code",
        "colab": {
          "base_uri": "https://localhost:8080/",
          "height": 119
        },
        "outputId": "8dcd53be-c8e0-469f-d9a3-012b8b95d67b"
      },
      "source": [
        "!git clone https://github.com/praveentn/quoted.git\n"
      ],
      "execution_count": 4,
      "outputs": [
        {
          "output_type": "stream",
          "text": [
            "Cloning into 'quoted'...\n",
            "remote: Enumerating objects: 9, done.\u001b[K\n",
            "remote: Counting objects: 100% (9/9), done.\u001b[K\n",
            "remote: Compressing objects: 100% (7/7), done.\u001b[K\n",
            "remote: Total 9 (delta 0), reused 0 (delta 0), pack-reused 0\u001b[K\n",
            "Unpacking objects: 100% (9/9), done.\n"
          ],
          "name": "stdout"
        }
      ]
    },
    {
      "cell_type": "code",
      "metadata": {
        "id": "Bezc2xs56i-o",
        "colab_type": "code",
        "colab": {
          "base_uri": "https://localhost:8080/",
          "height": 34
        },
        "outputId": "6ff1aa29-cb84-4f32-d606-5f9341000d50"
      },
      "source": [
        "!ls"
      ],
      "execution_count": 5,
      "outputs": [
        {
          "output_type": "stream",
          "text": [
            "quoted\n"
          ],
          "name": "stdout"
        }
      ]
    },
    {
      "cell_type": "code",
      "metadata": {
        "id": "XGIke1ty6kgD",
        "colab_type": "code",
        "colab": {
          "base_uri": "https://localhost:8080/",
          "height": 34
        },
        "outputId": "6d455031-3dca-4697-e515-13d22f19ecb4"
      },
      "source": [
        "cd quoted"
      ],
      "execution_count": 6,
      "outputs": [
        {
          "output_type": "stream",
          "text": [
            "/content/drive/My Drive/Quoted/quoted\n"
          ],
          "name": "stdout"
        }
      ]
    },
    {
      "cell_type": "code",
      "metadata": {
        "id": "UNW-0wi-6o7B",
        "colab_type": "code",
        "colab": {
          "base_uri": "https://localhost:8080/",
          "height": 68
        },
        "outputId": "bdf25c44-f34a-4cc6-e25f-eebcd49c5d11"
      },
      "source": [
        "!ls"
      ],
      "execution_count": 7,
      "outputs": [
        {
          "output_type": "stream",
          "text": [
            "author-quote.txt\t\t       README.md\n",
            "quote_generator_by_character_v1.ipynb  requirements.txt\n",
            "quote_generator_by_character_v1.py\n"
          ],
          "name": "stdout"
        }
      ]
    },
    {
      "cell_type": "code",
      "metadata": {
        "id": "5ui8EP626p-W",
        "colab_type": "code",
        "colab": {
          "base_uri": "https://localhost:8080/",
          "height": 34
        },
        "outputId": "937b4f89-e447-413c-b2b5-9208729a59a1"
      },
      "source": [
        "import pandas as pd \n",
        "import numpy as np \n",
        "import re\n",
        "import sys\n",
        "\n",
        "from nltk import word_tokenize\n",
        "from keras.models import Sequential, Model\n",
        "from keras.layers.embeddings import Embedding\n",
        "from keras.models import model_from_json\n",
        "from keras.layers import Input, Activation, Dense, Dropout\n",
        "from keras.layers import LSTM, Bidirectional"
      ],
      "execution_count": 8,
      "outputs": [
        {
          "output_type": "stream",
          "text": [
            "Using TensorFlow backend.\n"
          ],
          "name": "stderr"
        }
      ]
    },
    {
      "cell_type": "code",
      "metadata": {
        "id": "X8YQPFAZ60iD",
        "colab_type": "code",
        "colab": {}
      },
      "source": [
        "quotables = pd.read_csv('author-quote.txt', delimiter='\\t', header=None)\n",
        "quotables = quotables.rename(columns={0:'author', 1:'quote'})"
      ],
      "execution_count": 9,
      "outputs": []
    },
    {
      "cell_type": "code",
      "metadata": {
        "id": "zXyA1DdD62jL",
        "colab_type": "code",
        "colab": {
          "base_uri": "https://localhost:8080/",
          "height": 669
        },
        "outputId": "61772eb8-401f-45e6-bb84-061f818508cb"
      },
      "source": [
        "quotables.sample(20)\n"
      ],
      "execution_count": 10,
      "outputs": [
        {
          "output_type": "execute_result",
          "data": {
            "text/html": [
              "<div>\n",
              "<style scoped>\n",
              "    .dataframe tbody tr th:only-of-type {\n",
              "        vertical-align: middle;\n",
              "    }\n",
              "\n",
              "    .dataframe tbody tr th {\n",
              "        vertical-align: top;\n",
              "    }\n",
              "\n",
              "    .dataframe thead th {\n",
              "        text-align: right;\n",
              "    }\n",
              "</style>\n",
              "<table border=\"1\" class=\"dataframe\">\n",
              "  <thead>\n",
              "    <tr style=\"text-align: right;\">\n",
              "      <th></th>\n",
              "      <th>author</th>\n",
              "      <th>quote</th>\n",
              "    </tr>\n",
              "  </thead>\n",
              "  <tbody>\n",
              "    <tr>\n",
              "      <th>3053</th>\n",
              "      <td>Arthur Darvill</td>\n",
              "      <td>I've started collecting taxidermy: I've got a ...</td>\n",
              "    </tr>\n",
              "    <tr>\n",
              "      <th>26736</th>\n",
              "      <td>Nora Ephron</td>\n",
              "      <td>What my mother believed about cooking is that ...</td>\n",
              "    </tr>\n",
              "    <tr>\n",
              "      <th>14721</th>\n",
              "      <td>Hugh Bonneville</td>\n",
              "      <td>At 19, you know everything; by the time you're...</td>\n",
              "    </tr>\n",
              "    <tr>\n",
              "      <th>2121</th>\n",
              "      <td>Andy Warhol</td>\n",
              "      <td>What's great about this country is that Americ...</td>\n",
              "    </tr>\n",
              "    <tr>\n",
              "      <th>14104</th>\n",
              "      <td>Henrik Ibsen</td>\n",
              "      <td>A forest bird never wants a cage.</td>\n",
              "    </tr>\n",
              "    <tr>\n",
              "      <th>30371</th>\n",
              "      <td>Ryan Eggold</td>\n",
              "      <td>You have to figure out 'who am I?' 'What do I ...</td>\n",
              "    </tr>\n",
              "    <tr>\n",
              "      <th>30639</th>\n",
              "      <td>Samuel Beckett</td>\n",
              "      <td>Words are all we have.</td>\n",
              "    </tr>\n",
              "    <tr>\n",
              "      <th>25795</th>\n",
              "      <td>Morena Baccarin</td>\n",
              "      <td>My mom is an actress, but she never really pus...</td>\n",
              "    </tr>\n",
              "    <tr>\n",
              "      <th>11408</th>\n",
              "      <td>Francis Bacon</td>\n",
              "      <td>Hope is a good breakfast, but it is a bad supper.</td>\n",
              "    </tr>\n",
              "    <tr>\n",
              "      <th>15754</th>\n",
              "      <td>James Callis</td>\n",
              "      <td>On a personal note, myself, I find religion - ...</td>\n",
              "    </tr>\n",
              "    <tr>\n",
              "      <th>32315</th>\n",
              "      <td>Steve Hackett</td>\n",
              "      <td>These days I can really get the strings to sna...</td>\n",
              "    </tr>\n",
              "    <tr>\n",
              "      <th>27376</th>\n",
              "      <td>Paul Feig</td>\n",
              "      <td>Many Republicans have always reminded me of pr...</td>\n",
              "    </tr>\n",
              "    <tr>\n",
              "      <th>18640</th>\n",
              "      <td>John Cameron</td>\n",
              "      <td>I was the Chair of the first department of med...</td>\n",
              "    </tr>\n",
              "    <tr>\n",
              "      <th>17446</th>\n",
              "      <td>Jesse Jackson</td>\n",
              "      <td>America is not a blanket woven from one thread...</td>\n",
              "    </tr>\n",
              "    <tr>\n",
              "      <th>33812</th>\n",
              "      <td>Tony Campolo</td>\n",
              "      <td>I contend that, in spite of all that might be ...</td>\n",
              "    </tr>\n",
              "    <tr>\n",
              "      <th>27909</th>\n",
              "      <td>Peter Garrett</td>\n",
              "      <td>I don't blame my own parents for the way I gre...</td>\n",
              "    </tr>\n",
              "    <tr>\n",
              "      <th>16966</th>\n",
              "      <td>Jennette McCurdy</td>\n",
              "      <td>No matter who or what you support, I believe i...</td>\n",
              "    </tr>\n",
              "    <tr>\n",
              "      <th>22326</th>\n",
              "      <td>Lindsay Davenport</td>\n",
              "      <td>I couldn't imagine being from a country where ...</td>\n",
              "    </tr>\n",
              "    <tr>\n",
              "      <th>29017</th>\n",
              "      <td>Richard Hammond</td>\n",
              "      <td>I'm not reckless. I was never reckless.</td>\n",
              "    </tr>\n",
              "    <tr>\n",
              "      <th>11938</th>\n",
              "      <td>Freema Agyeman</td>\n",
              "      <td>I was very much into science when I was young ...</td>\n",
              "    </tr>\n",
              "  </tbody>\n",
              "</table>\n",
              "</div>"
            ],
            "text/plain": [
              "                  author                                              quote\n",
              "3053      Arthur Darvill  I've started collecting taxidermy: I've got a ...\n",
              "26736        Nora Ephron  What my mother believed about cooking is that ...\n",
              "14721    Hugh Bonneville  At 19, you know everything; by the time you're...\n",
              "2121         Andy Warhol  What's great about this country is that Americ...\n",
              "14104       Henrik Ibsen                  A forest bird never wants a cage.\n",
              "30371        Ryan Eggold  You have to figure out 'who am I?' 'What do I ...\n",
              "30639     Samuel Beckett                             Words are all we have.\n",
              "25795    Morena Baccarin  My mom is an actress, but she never really pus...\n",
              "11408      Francis Bacon  Hope is a good breakfast, but it is a bad supper.\n",
              "15754       James Callis  On a personal note, myself, I find religion - ...\n",
              "32315      Steve Hackett  These days I can really get the strings to sna...\n",
              "27376          Paul Feig  Many Republicans have always reminded me of pr...\n",
              "18640       John Cameron  I was the Chair of the first department of med...\n",
              "17446      Jesse Jackson  America is not a blanket woven from one thread...\n",
              "33812       Tony Campolo  I contend that, in spite of all that might be ...\n",
              "27909      Peter Garrett  I don't blame my own parents for the way I gre...\n",
              "16966   Jennette McCurdy  No matter who or what you support, I believe i...\n",
              "22326  Lindsay Davenport  I couldn't imagine being from a country where ...\n",
              "29017    Richard Hammond            I'm not reckless. I was never reckless.\n",
              "11938     Freema Agyeman  I was very much into science when I was young ..."
            ]
          },
          "metadata": {
            "tags": []
          },
          "execution_count": 10
        }
      ]
    },
    {
      "cell_type": "code",
      "metadata": {
        "id": "WzBIQEOt642l",
        "colab_type": "code",
        "colab": {}
      },
      "source": [
        "quotables['len_quotes'] = quotables.quote.map(lambda s: len(s))\n",
        "quotes = list(quotables.quote + '\\n')\n",
        "\n",
        "\n",
        "removed_char = ['#', '$', '%', '(', ')', '=', ';' ,':',  '*', '+', '£' , '—','’']  \n",
        "quotes_cleaned = []\n",
        "\n",
        "for quote in quotes: \n",
        "    # remove unused character\n",
        "    for s_char in removed_char:\n",
        "        quote = quote.replace(s_char, ' ')\n",
        "    \n",
        "    # remove white space\n",
        "    pattern = re.compile(r'\\s{2,}')\n",
        "    quote = re.sub(pattern, ' ', quote)\n",
        "\n",
        "    quotes_cleaned.append(quote)\n",
        "\n",
        "text = ' '.join(quotes_cleaned)\n",
        "chars = sorted(list(set(text)))\n",
        "char_indices = dict((c, i) for i, c in enumerate(chars))\n",
        "indices_char = dict((i, c) for i, c in enumerate(chars))"
      ],
      "execution_count": 11,
      "outputs": []
    },
    {
      "cell_type": "code",
      "metadata": {
        "id": "jAL6h1ix69lK",
        "colab_type": "code",
        "colab": {
          "base_uri": "https://localhost:8080/",
          "height": 34
        },
        "outputId": "00190909-adb7-4e4a-c1eb-24216b3c4018"
      },
      "source": [
        "maxlen = 15\n",
        "step = 6\n",
        "sentences = []\n",
        "next_chars = []\n",
        "\n",
        "for quote in quotes_cleaned:\n",
        "    for i in range(0, len(quote) - maxlen, step):\n",
        "        sentences.append(quote[i: i + maxlen])\n",
        "        next_chars.append(quote[i + maxlen])\n",
        "    sentences.append(quote[-maxlen:])\n",
        "    next_chars.append(quote[-1])\n",
        "print('nb sequences:', len(sentences))"
      ],
      "execution_count": 12,
      "outputs": [
        {
          "output_type": "stream",
          "text": [
            "nb sequences: 753142\n"
          ],
          "name": "stdout"
        }
      ]
    },
    {
      "cell_type": "code",
      "metadata": {
        "id": "NJsHl6cj7Hr0",
        "colab_type": "code",
        "colab": {
          "base_uri": "https://localhost:8080/",
          "height": 357
        },
        "outputId": "46df634a-4387-4e08-ce51-8d744392a125"
      },
      "source": [
        "sentences[:20]\n"
      ],
      "execution_count": 13,
      "outputs": [
        {
          "output_type": "execute_result",
          "data": {
            "text/plain": [
              "['If you live to ',\n",
              " ' live to be a h',\n",
              " 'to be a hundred',\n",
              " 'a hundred, I wa',\n",
              " 'red, I want to ',\n",
              " ' want to live t',\n",
              " 'to live to be a',\n",
              " 'e to be a hundr',\n",
              " 'e a hundred min',\n",
              " 'ndred minus one',\n",
              " 'minus one day s',\n",
              " 'one day so I ne',\n",
              " 'y so I never ha',\n",
              " ' never have to ',\n",
              " ' have to live w',\n",
              " 'to live without',\n",
              " 'e without you.\\n',\n",
              " \"Promise me you'\",\n",
              " \"e me you'll alw\",\n",
              " \"ou'll always re\"]"
            ]
          },
          "metadata": {
            "tags": []
          },
          "execution_count": 13
        }
      ]
    },
    {
      "cell_type": "code",
      "metadata": {
        "id": "xbmhrUQh7JEz",
        "colab_type": "code",
        "colab": {
          "base_uri": "https://localhost:8080/",
          "height": 34
        },
        "outputId": "1d9a447f-3ef6-4e83-8e92-d65b8e84e98c"
      },
      "source": [
        "print('Vectorization...')\n",
        "x = np.zeros((len(sentences), maxlen, len(chars)), dtype=np.bool)\n",
        "y = np.zeros((len(sentences), len(chars)), dtype=np.bool)\n",
        "for i, sentence in enumerate(sentences):\n",
        "    for t, char in enumerate(sentence):\n",
        "        x[i, t, char_indices[char]] = 1\n",
        "    y[i, char_indices[next_chars[i]]] = 1"
      ],
      "execution_count": 14,
      "outputs": [
        {
          "output_type": "stream",
          "text": [
            "Vectorization...\n"
          ],
          "name": "stdout"
        }
      ]
    },
    {
      "cell_type": "code",
      "metadata": {
        "id": "8-t1vCXP7LVG",
        "colab_type": "code",
        "colab": {
          "base_uri": "https://localhost:8080/",
          "height": 34
        },
        "outputId": "dc571688-ba5f-40f5-fbb9-2aed0c240520"
      },
      "source": [
        "x.shape, y.shape, len(chars)\n"
      ],
      "execution_count": 15,
      "outputs": [
        {
          "output_type": "execute_result",
          "data": {
            "text/plain": [
              "((753142, 15, 73), (753142, 73), 73)"
            ]
          },
          "metadata": {
            "tags": []
          },
          "execution_count": 15
        }
      ]
    },
    {
      "cell_type": "code",
      "metadata": {
        "id": "WDtK5_k07MuB",
        "colab_type": "code",
        "colab": {
          "base_uri": "https://localhost:8080/",
          "height": 34
        },
        "outputId": "c20e21a3-54ea-4a70-bfd8-3400a6ccfc80"
      },
      "source": [
        "## Model \n",
        "print('Build model...')\n",
        "input_sequences = Input((maxlen, len(chars)) , name=\"input_sequences\")\n",
        "lstm = Bidirectional(LSTM(256, return_sequences= True, input_shape=(maxlen, len(chars))), name = 'bidirectional')(input_sequences)\n",
        "lstm = Dropout(0.1, name = 'dropout_bidirectional_lstm')(lstm)\n",
        "lstm = LSTM(64, input_shape=(maxlen, len(chars)), name = 'lstm')(lstm)\n",
        "lstm = Dropout(0.1,  name = 'drop_out_lstm')(lstm)\n",
        "\n",
        "dense = Dense(15 * len(chars), name = 'first_dense')(lstm)\n",
        "dense = Dropout(0.1,  name = 'drop_out_first_dense')(dense)\n",
        "dense = Dense(5 * len(chars), name = 'second_dense')(dense)\n",
        "dense = Dropout(0.1,  name = 'drop_out_second_dense')(dense)\n",
        "dense = Dense(len(chars), name = 'last_dense')(dense)\n",
        "\n",
        "next_char = Activation('softmax', name = 'activation')(dense)\n",
        "\n",
        "model = Model([input_sequences], next_char)\n",
        "model.compile(optimizer='adam', loss='categorical_crossentropy')"
      ],
      "execution_count": 16,
      "outputs": [
        {
          "output_type": "stream",
          "text": [
            "Build model...\n"
          ],
          "name": "stdout"
        }
      ]
    },
    {
      "cell_type": "code",
      "metadata": {
        "id": "mmyuAwyO7Ov7",
        "colab_type": "code",
        "colab": {
          "base_uri": "https://localhost:8080/",
          "height": 527
        },
        "outputId": "b7e2af5b-8681-4937-f0b2-aca1cc452a19"
      },
      "source": [
        "model.summary()\n"
      ],
      "execution_count": 17,
      "outputs": [
        {
          "output_type": "stream",
          "text": [
            "Model: \"model_1\"\n",
            "_________________________________________________________________\n",
            "Layer (type)                 Output Shape              Param #   \n",
            "=================================================================\n",
            "input_sequences (InputLayer) (None, 15, 73)            0         \n",
            "_________________________________________________________________\n",
            "bidirectional (Bidirectional (None, 15, 512)           675840    \n",
            "_________________________________________________________________\n",
            "dropout_bidirectional_lstm ( (None, 15, 512)           0         \n",
            "_________________________________________________________________\n",
            "lstm (LSTM)                  (None, 64)                147712    \n",
            "_________________________________________________________________\n",
            "drop_out_lstm (Dropout)      (None, 64)                0         \n",
            "_________________________________________________________________\n",
            "first_dense (Dense)          (None, 1095)              71175     \n",
            "_________________________________________________________________\n",
            "drop_out_first_dense (Dropou (None, 1095)              0         \n",
            "_________________________________________________________________\n",
            "second_dense (Dense)         (None, 365)               400040    \n",
            "_________________________________________________________________\n",
            "drop_out_second_dense (Dropo (None, 365)               0         \n",
            "_________________________________________________________________\n",
            "last_dense (Dense)           (None, 73)                26718     \n",
            "_________________________________________________________________\n",
            "activation (Activation)      (None, 73)                0         \n",
            "=================================================================\n",
            "Total params: 1,321,485\n",
            "Trainable params: 1,321,485\n",
            "Non-trainable params: 0\n",
            "_________________________________________________________________\n"
          ],
          "name": "stdout"
        }
      ]
    },
    {
      "cell_type": "code",
      "metadata": {
        "id": "eoQLM46i7QWl",
        "colab_type": "code",
        "colab": {
          "base_uri": "https://localhost:8080/",
          "height": 544
        },
        "outputId": "74315e90-eb91-4d92-cb81-33670e38a8e0"
      },
      "source": [
        "model.fit([x], y,\n",
        "         batch_size=128,\n",
        "          epochs= 15\n",
        "         )"
      ],
      "execution_count": 18,
      "outputs": [
        {
          "output_type": "stream",
          "text": [
            "Epoch 1/15\n",
            "753142/753142 [==============================] - 788s 1ms/step - loss: 1.8728\n",
            "Epoch 2/15\n",
            "753142/753142 [==============================] - 799s 1ms/step - loss: 1.5307\n",
            "Epoch 3/15\n",
            "753142/753142 [==============================] - 765s 1ms/step - loss: 1.4260\n",
            "Epoch 4/15\n",
            "753142/753142 [==============================] - 755s 1ms/step - loss: 1.3672\n",
            "Epoch 5/15\n",
            "753142/753142 [==============================] - 778s 1ms/step - loss: 1.3280\n",
            "Epoch 6/15\n",
            "753142/753142 [==============================] - 758s 1ms/step - loss: 1.2979\n",
            "Epoch 7/15\n",
            "753142/753142 [==============================] - 783s 1ms/step - loss: 1.2741\n",
            "Epoch 8/15\n",
            "753142/753142 [==============================] - 761s 1ms/step - loss: 1.2538\n",
            "Epoch 9/15\n",
            "753142/753142 [==============================] - 751s 997us/step - loss: 1.2368\n",
            "Epoch 10/15\n",
            "753142/753142 [==============================] - 776s 1ms/step - loss: 1.2217\n",
            "Epoch 11/15\n",
            "753142/753142 [==============================] - 761s 1ms/step - loss: 1.2074\n",
            "Epoch 12/15\n",
            "753142/753142 [==============================] - 770s 1ms/step - loss: 1.1948\n",
            "Epoch 13/15\n",
            "753142/753142 [==============================] - 780s 1ms/step - loss: 1.1831\n",
            "Epoch 14/15\n",
            "753142/753142 [==============================] - 774s 1ms/step - loss: 1.1719\n",
            "Epoch 15/15\n",
            "753142/753142 [==============================] - 773s 1ms/step - loss: 1.1617\n"
          ],
          "name": "stdout"
        },
        {
          "output_type": "execute_result",
          "data": {
            "text/plain": [
              "<keras.callbacks.callbacks.History at 0x7f7000117a58>"
            ]
          },
          "metadata": {
            "tags": []
          },
          "execution_count": 18
        }
      ]
    },
    {
      "cell_type": "code",
      "metadata": {
        "id": "StBbckAu7S84",
        "colab_type": "code",
        "colab": {
          "base_uri": "https://localhost:8080/",
          "height": 102
        },
        "outputId": "78518489-417a-4ac7-da3f-19b7af6aad66"
      },
      "source": [
        "model.fit([x], y,\n",
        "         batch_size=2048,\n",
        "          epochs= 2\n",
        "         )"
      ],
      "execution_count": 19,
      "outputs": [
        {
          "output_type": "stream",
          "text": [
            "Epoch 1/2\n",
            "753142/753142 [==============================] - 89s 118us/step - loss: 1.0869\n",
            "Epoch 2/2\n",
            "753142/753142 [==============================] - 89s 118us/step - loss: 1.0656\n"
          ],
          "name": "stdout"
        },
        {
          "output_type": "execute_result",
          "data": {
            "text/plain": [
              "<keras.callbacks.callbacks.History at 0x7f70000dc828>"
            ]
          },
          "metadata": {
            "tags": []
          },
          "execution_count": 19
        }
      ]
    },
    {
      "cell_type": "code",
      "metadata": {
        "id": "BInzN01_7Urh",
        "colab_type": "code",
        "colab": {
          "base_uri": "https://localhost:8080/",
          "height": 102
        },
        "outputId": "ce4781dc-1a6a-4834-bded-aa3b1af1ae36"
      },
      "source": [
        "model.fit([x], y,\n",
        "         batch_size=1024,\n",
        "          epochs= 2\n",
        "         )"
      ],
      "execution_count": 20,
      "outputs": [
        {
          "output_type": "stream",
          "text": [
            "Epoch 1/2\n",
            "753142/753142 [==============================] - 131s 174us/step - loss: 1.0661\n",
            "Epoch 2/2\n",
            "753142/753142 [==============================] - 131s 174us/step - loss: 1.0611\n"
          ],
          "name": "stdout"
        },
        {
          "output_type": "execute_result",
          "data": {
            "text/plain": [
              "<keras.callbacks.callbacks.History at 0x7f70147ce0b8>"
            ]
          },
          "metadata": {
            "tags": []
          },
          "execution_count": 20
        }
      ]
    },
    {
      "cell_type": "code",
      "metadata": {
        "id": "tepJO5fz7tXd",
        "colab_type": "code",
        "colab": {}
      },
      "source": [
        "\n",
        "two_first_words = [bigram for bigram in [' '.join(word_tokenize(quote)[:2]) for quote in quotes] if len(bigram) <= maxlen]\n",
        "\n",
        "def sample(preds, temperature=1.0):\n",
        "    # helper function to sample an index from a probability array\n",
        "    preds = np.asarray(preds).astype('float64')\n",
        "    preds = np.log(preds) / temperature\n",
        "    exp_preds = np.exp(preds)\n",
        "    preds = exp_preds / np.sum(exp_preds)\n",
        "    probas = np.random.multinomial(1, preds, 1)\n",
        "    return np.argmax(probas)"
      ],
      "execution_count": 24,
      "outputs": []
    },
    {
      "cell_type": "code",
      "metadata": {
        "id": "jAbgIBdh7x6m",
        "colab_type": "code",
        "colab": {}
      },
      "source": [
        "def generate_quote(sentence = None, diversity = 0.8):\n",
        "    \n",
        "    if not sentence: ## if input is null then sample two first word from dataset\n",
        "        random_index = np.random.randint(0, len(two_first_words))\n",
        "        sentence = two_first_words[random_index]\n",
        "        \n",
        "    if len(sentence) > maxlen:\n",
        "        sentence = sentence[-maxlen:]\n",
        "    elif len(sentence) < maxlen:\n",
        "        sentence = ' '*(maxlen - len(sentence)) + sentence\n",
        "        \n",
        "    generated = ''\n",
        "    generated += sentence\n",
        "    sys.stdout.write(generated)\n",
        "    \n",
        "    next_char = 'Empty'\n",
        "    total_word = 0 \n",
        "    \n",
        "    max_word = 15\n",
        "    \n",
        "    while ((next_char not in ['\\n', '.']) & (total_word <= 500)):\n",
        "    \n",
        "        x_pred = np.zeros((1, maxlen, len(chars)))\n",
        "        for t, char in enumerate(sentence):\n",
        "            x_pred[0, t, char_indices[char]] = 1.\n",
        "\n",
        "        preds = model.predict(x_pred, verbose=0)[0]\n",
        "        next_index = sample(preds, diversity)\n",
        "        next_char = indices_char[next_index]\n",
        "\n",
        "        if next_char == ' ':\n",
        "           total_word += 1\n",
        "        generated += next_char\n",
        "        sentence = sentence[1:] + next_char\n",
        "\n",
        "        sys.stdout.write(next_char)\n",
        "        sys.stdout.flush()\n",
        "    print()"
      ],
      "execution_count": 25,
      "outputs": []
    },
    {
      "cell_type": "code",
      "metadata": {
        "id": "sfvmXjEq7zy-",
        "colab_type": "code",
        "colab": {
          "base_uri": "https://localhost:8080/",
          "height": 34
        },
        "outputId": "b34edcac-2aa5-410c-d4b4-362edb2dd4d8"
      },
      "source": [
        "generate_quote()\n"
      ],
      "execution_count": 26,
      "outputs": [
        {
          "output_type": "stream",
          "text": [
            "          I was just the terrorist, people will blame the film men me when I was going through the time for the now when you are anything new sort of fairly keeping that country is the most interesting.\n"
          ],
          "name": "stdout"
        }
      ]
    },
    {
      "cell_type": "code",
      "metadata": {
        "id": "5GYwrczn735r",
        "colab_type": "code",
        "colab": {
          "base_uri": "https://localhost:8080/",
          "height": 34
        },
        "outputId": "cd0ba5b0-20a6-4d06-b8de-10b556ae0e8f"
      },
      "source": [
        "\n",
        "# serialize model to JSON\n",
        "model_json = model.to_json()\n",
        "with open(\"model_char.json\", \"w\") as json_file:\n",
        "    json_file.write(model_json)\n",
        "# serialize weights to HDF5\n",
        "model.save_weights(\"model_char.h5\")\n",
        "print(\"Saved model to disk\")\n"
      ],
      "execution_count": 27,
      "outputs": [
        {
          "output_type": "stream",
          "text": [
            "Saved model to disk\n"
          ],
          "name": "stdout"
        }
      ]
    },
    {
      "cell_type": "code",
      "metadata": {
        "id": "qYzYInsm76cR",
        "colab_type": "code",
        "colab": {}
      },
      "source": [
        ""
      ],
      "execution_count": null,
      "outputs": []
    }
  ]
}